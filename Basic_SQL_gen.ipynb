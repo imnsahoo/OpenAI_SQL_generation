{
 "cells": [
  {
   "cell_type": "code",
   "execution_count": 28,
   "id": "7a165619",
   "metadata": {},
   "outputs": [],
   "source": [
    "import os\n",
    "import openai\n",
    "import json\n",
    "import pandas as pd\n",
    "import numpy as np\n",
    "\n",
    "openai.api_key = \"Add your API Key\""
   ]
  },
  {
   "cell_type": "code",
   "execution_count": 29,
   "id": "ffd1ef49",
   "metadata": {},
   "outputs": [],
   "source": [
    "config = configparser.ConfigParser()\n",
    "config.read('db.properties')\n",
    "# Access the properties\n",
    "username = config.get('DEFAULT', 'username')\n",
    "password = config.get('DEFAULT', 'password')\n",
    "hostname = config.get('DEFAULT', 'hostname')\n",
    "port = config.getint('DEFAULT', 'port')\n",
    "service_name = config.get('DEFAULT', 'service_name')"
   ]
  },
  {
   "cell_type": "code",
   "execution_count": null,
   "id": "afcf68aa",
   "metadata": {},
   "outputs": [],
   "source": []
  },
  {
   "cell_type": "code",
   "execution_count": null,
   "id": "0bad5409",
   "metadata": {},
   "outputs": [],
   "source": [
    "saidString = input(\"Please Ask to generate SQL query : \") # Uncomment this to give through input from Keyboard\n",
    "print(\"User  asked : \", saidString)\n",
    "sqlHint= ''\n",
    "#param = '21345'\n",
    "with open('sqlHint_.txt', 'r') as file:    \n",
    "        sqlHint = file.read()\n",
    "params = {\n",
    "        \"engine\": \"text-davinci-003\",\n",
    "        \"prompt\": f\" {sqlHint}+{saidString}\",\n",
    "        \"temperature\": 0.5,\n",
    "        \"max_tokens\": 1024,\n",
    "        \"top_p\": 1,\n",
    "        \"frequency_penalty\": 0,\n",
    "        \"presence_penalty\": 0,\n",
    "    }    \n",
    "    # Call the API to translate the text\n",
    "translation = openai.Completion.create(**params)\n",
    "translation.choices[0].text.strip(); \n",
    "print(translation.choices[0].text.strip())"
   ]
  },
  {
   "cell_type": "code",
   "execution_count": null,
   "id": "a4d3db8a",
   "metadata": {},
   "outputs": [],
   "source": []
  }
 ],
 "metadata": {
  "kernelspec": {
   "display_name": "Python 3 (ipykernel)",
   "language": "python",
   "name": "python3"
  },
  "language_info": {
   "codemirror_mode": {
    "name": "ipython",
    "version": 3
   },
   "file_extension": ".py",
   "mimetype": "text/x-python",
   "name": "python",
   "nbconvert_exporter": "python",
   "pygments_lexer": "ipython3",
   "version": "3.9.12"
  }
 },
 "nbformat": 4,
 "nbformat_minor": 5
}
